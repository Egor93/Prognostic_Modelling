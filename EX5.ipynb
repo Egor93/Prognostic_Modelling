{
 "cells": [
  {
   "cell_type": "code",
   "execution_count": 1,
   "metadata": {},
   "outputs": [],
   "source": [
    "import numpy as np\n",
    "from numpy import linalg as LA\n",
    "from matplotlib import pyplot as plt\n",
    "import random"
   ]
  },
  {
   "cell_type": "code",
   "execution_count": 2,
   "metadata": {},
   "outputs": [
    {
     "data": {
      "text/plain": [
       "0.0005"
      ]
     },
     "execution_count": 2,
     "metadata": {},
     "output_type": "execute_result"
    }
   ],
   "source": [
    "x=np.linspace(0,1,1001)  \n",
    "deltaX=x[1]-x[0]\n",
    "deltaX\n",
    "hstep=deltaX/2\n",
    "hstep"
   ]
  },
  {
   "cell_type": "code",
   "execution_count": 3,
   "metadata": {},
   "outputs": [
    {
     "data": {
      "text/plain": [
       "[<matplotlib.lines.Line2D at 0x7f6a6542a080>]"
      ]
     },
     "execution_count": 3,
     "metadata": {},
     "output_type": "execute_result"
    },
    {
     "data": {
      "image/png": "[encoded data removed]",
      "text/plain": [
       "<Figure size 432x432 with 1 Axes>"
      ]
     },
     "metadata": {
      "needs_background": "light"
     },
     "output_type": "display_data"
    }
   ],
   "source": [
    "fig=plt.figure(figsize=(6,6))\n",
    "ax=plt.axes()\n",
    "ax.grid()\n",
    "ax.set_ylim(0,3)\n",
    "ax.set_xlim(0,1)\n",
    "ax.set_title(\"epsilon\")\n",
    "plt.plot([0,0.5,0.5,1],[1,1,2,2])"
   ]
  },
  {
   "cell_type": "code",
   "execution_count": 4,
   "metadata": {},
   "outputs": [],
   "source": [
    "diag=[]\n",
    "for s in x:\n",
    "    iphalf=s+hstep\n",
    "    if iphalf<0.5:\n",
    "        epsP=1\n",
    "    else:\n",
    "        epsP=2\n",
    "    imhalf=s-hstep\n",
    "    if imhalf<0.5:\n",
    "        epsF=1\n",
    "    else:\n",
    "        epsF=2\n",
    "    epsum=epsP+epsF\n",
    "    diag.append(epsum)\n",
    "#     print('step{}'.format(s))\n",
    "#     print('epsum'.format(epsum))\n",
    "#     print('--'*10)"
   ]
  },
  {
   "cell_type": "code",
   "execution_count": 5,
   "metadata": {},
   "outputs": [
    {
     "data": {
      "text/plain": [
       "{2, 3, 4}"
      ]
     },
     "execution_count": 5,
     "metadata": {},
     "output_type": "execute_result"
    }
   ],
   "source": [
    "set(diag)"
   ]
  },
  {
   "cell_type": "code",
   "execution_count": 6,
   "metadata": {},
   "outputs": [
    {
     "data": {
      "text/plain": [
       "array([0.   , 0.001, 0.002, 0.003])"
      ]
     },
     "execution_count": 6,
     "metadata": {},
     "output_type": "execute_result"
    }
   ],
   "source": [
    "x[:4]"
   ]
  },
  {
   "cell_type": "code",
   "execution_count": 7,
   "metadata": {},
   "outputs": [],
   "source": [
    "#subdiagonal\n",
    "subdiag=[]\n",
    "for s in range(1,len(x)):   # because fisrt element of subdiagonal is omitted\n",
    "    imhalf=x[s]-hstep\n",
    "    if imhalf<0.5:\n",
    "        epsF=1\n",
    "    else:\n",
    "        epsF=2\n",
    "    subdiag.append(epsF)\n",
    "#     print('step{}'.format(s))\n",
    "#     print('imhalf{}'.format(imhalf))\n",
    "#     print('eps{}'.format(epsF))\n",
    "#     print('--'*10)"
   ]
  },
  {
   "cell_type": "code",
   "execution_count": 8,
   "metadata": {},
   "outputs": [],
   "source": [
    "# super diagonal\n",
    "supdiag=[]\n",
    "for s in range(0,len(x)-1):   # because last element of super diagonal is omitted\n",
    "    iphalf=x[s]+hstep\n",
    "    if iphalf<0.5:\n",
    "        epsF=1\n",
    "    else:\n",
    "        epsF=2\n",
    "    supdiag.append(epsF)\n",
    "#     print('step{}'.format(s))\n",
    "#     print('imhalf{}'.format(imhalf))\n",
    "#     print('eps{}'.format(epsF))\n",
    "#     print('--'*10)"
   ]
  },
  {
   "cell_type": "code",
   "execution_count": 22,
   "metadata": {},
   "outputs": [
    {
     "data": {
      "text/plain": [
       "array([[-2,  1,  0, ...,  0,  0,  0],\n",
       "       [ 1, -2,  1, ...,  0,  0,  0],\n",
       "       [ 0,  1, -2, ...,  0,  0,  0],\n",
       "       ...,\n",
       "       [ 0,  0,  0, ..., -4,  2,  0],\n",
       "       [ 0,  0,  0, ...,  2, -4,  2],\n",
       "       [ 0,  0,  0, ...,  0,  2, -4]])"
      ]
     },
     "execution_count": 22,
     "metadata": {},
     "output_type": "execute_result"
    }
   ],
   "source": [
    "mat=-np.diag(diag)+np.diag(supdiag,k=1)+np.diag(subdiag,k=-1)\n",
    "mat"
   ]
  },
  {
   "cell_type": "code",
   "execution_count": 14,
   "metadata": {},
   "outputs": [
    {
     "data": {
      "text/plain": [
       "(1001, 1001)"
      ]
     },
     "execution_count": 14,
     "metadata": {},
     "output_type": "execute_result"
    }
   ],
   "source": [
    "mat.shape"
   ]
  },
  {
   "cell_type": "markdown",
   "metadata": {},
   "source": [
    "## Lets define q(x)"
   ]
  },
  {
   "cell_type": "code",
   "execution_count": 10,
   "metadata": {},
   "outputs": [
    {
     "data": {
      "text/plain": [
       "[<matplotlib.lines.Line2D at 0x7f6a65177080>]"
      ]
     },
     "execution_count": 10,
     "metadata": {},
     "output_type": "execute_result"
    },
    {
     "data": {
      "image/png": "[encoded data removed]",
      "text/plain": [
       "<Figure size 432x432 with 1 Axes>"
      ]
     },
     "metadata": {
      "needs_background": "light"
     },
     "output_type": "display_data"
    }
   ],
   "source": [
    "fig=plt.figure(figsize=(6,6))\n",
    "ax=plt.axes()\n",
    "ax.grid()\n",
    "ax.set_ylim(-1,2)\n",
    "ax.set_xlim(0,1)\n",
    "ax.set_title(\"q(x)\")\n",
    "plt.plot([0,0.2,0.2,0.4,0.4,1],[-0.25,-0.25,1,1,-0.25,-0.25],color=\"red\")\n"
   ]
  },
  {
   "cell_type": "code",
   "execution_count": 53,
   "metadata": {},
   "outputs": [],
   "source": [
    "qlist=[]\n",
    "for s in x:\n",
    "    if s<=0.2:\n",
    "        qlist.append(-0.25)\n",
    "    elif s<=0.4:\n",
    "        qlist.append(1)\n",
    "    else:\n",
    "        qlist.append(-0.25)\n",
    "qlist=np.array(qlist)"
   ]
  },
  {
   "cell_type": "code",
   "execution_count": 54,
   "metadata": {},
   "outputs": [
    {
     "data": {
      "text/plain": [
       "({-0.25, 1.0}, 1001)"
      ]
     },
     "execution_count": 54,
     "metadata": {},
     "output_type": "execute_result"
    }
   ],
   "source": [
    "set(qlist),len(qlist)"
   ]
  },
  {
   "cell_type": "code",
   "execution_count": 56,
   "metadata": {},
   "outputs": [
    {
     "data": {
      "text/plain": [
       "[<matplotlib.lines.Line2D at 0x7f6a647e22b0>]"
      ]
     },
     "execution_count": 56,
     "metadata": {},
     "output_type": "execute_result"
    },
    {
     "data": {
      "image/png": "[encoded data removed]",
      "text/plain": [
       "<Figure size 432x288 with 1 Axes>"
      ]
     },
     "metadata": {
      "needs_background": "light"
     },
     "output_type": "display_data"
    }
   ],
   "source": [
    "plt.plot(x,qlist)"
   ]
  },
  {
   "cell_type": "markdown",
   "metadata": {},
   "source": [
    "## Lets represent our diff. equation as a system of equations in a matrix form"
   ]
  },
  {
   "cell_type": "markdown",
   "metadata": {},
   "source": [
    "Mf=q which can be represented as, where M=mat,q=qlist"
   ]
  },
  {
   "cell_type": "markdown",
   "metadata": {},
   "source": [
    "\\begin{align}\n",
    "\\dfrac{1}{dx^2}\n",
    "\\begin{bmatrix}\n",
    "    -(\\epsilon_{1.5}+\\epsilon_{0.5}) & \\epsilon_{1.5} & 0 & \\dots  & 0\\\\\n",
    "    \\epsilon_{1.5} & -(\\epsilon_{2.5}+\\epsilon_{1.5}) & \\epsilon_{2.5} & \\dots  & 0 \\\\\n",
    "    \\vdots & \\vdots & \\vdots & \\ddots & \\vdots \\\\\n",
    "   0 & 0 &0 & \\dots  & -(\\epsilon_{N+0.5}+\\epsilon_{N-0.5})\n",
    "\\end{bmatrix}\n",
    "*\\begin{bmatrix}\n",
    "           f_{1} \\\\\n",
    "           f_{2} \\\\\n",
    "           \\vdots \\\\\n",
    "           f_{N}\n",
    "  \\end{bmatrix}\n",
    "=\n",
    "\\begin{bmatrix}\n",
    "           q_{1} \\\\\n",
    "           q_{2} \\\\\n",
    "           \\vdots \\\\\n",
    "           q_{N}\n",
    "  \\end{bmatrix}\n",
    "\\end{align}"
   ]
  },
  {
   "cell_type": "markdown",
   "metadata": {},
   "source": [
    "we can rewrite it as"
   ]
  },
  {
   "cell_type": "markdown",
   "metadata": {},
   "source": [
    "\\begin{align}\n",
    "\\begin{bmatrix}\n",
    "    -(\\epsilon_{1.5}+\\epsilon_{0.5}) & \\epsilon_{1.5} & 0 & \\dots  & 0\\\\\n",
    "    \\epsilon_{1.5} & -(\\epsilon_{2.5}+\\epsilon_{1.5}) & \\epsilon_{2.5} & \\dots  & 0 \\\\\n",
    "    \\vdots & \\vdots & \\vdots & \\ddots & \\vdots \\\\\n",
    "   0 & 0 &0 & \\dots  & -(\\epsilon_{N+0.5}+\\epsilon_{N-0.5})\n",
    "\\end{bmatrix}\n",
    "*\\begin{bmatrix}\n",
    "           f_{1} \\\\\n",
    "           f_{2} \\\\\n",
    "           \\vdots \\\\\n",
    "           f_{N}\n",
    "  \\end{bmatrix}\n",
    "=\n",
    "\\begin{bmatrix}\n",
    "           q_{1} \\\\\n",
    "           q_{2} \\\\\n",
    "           \\vdots \\\\\n",
    "           q_{N}\n",
    "  \\end{bmatrix}\n",
    "  *dx^2\n",
    "\\end{align}"
   ]
  },
  {
   "cell_type": "code",
   "execution_count": 29,
   "metadata": {},
   "outputs": [
    {
     "data": {
      "text/plain": [
       "(0.999, 1.0)"
      ]
     },
     "execution_count": 29,
     "metadata": {},
     "output_type": "execute_result"
    }
   ],
   "source": [
    "x[999],x[1000]"
   ]
  },
  {
   "cell_type": "code",
   "execution_count": 31,
   "metadata": {},
   "outputs": [
    {
     "data": {
      "text/plain": [
       "(-0.25, -0.25)"
      ]
     },
     "execution_count": 31,
     "metadata": {},
     "output_type": "execute_result"
    }
   ],
   "source": [
    "qlist[999],qlist[1000]"
   ]
  },
  {
   "cell_type": "markdown",
   "metadata": {},
   "source": [
    "# boundary conditions"
   ]
  },
  {
   "cell_type": "markdown",
   "metadata": {},
   "source": [
    "###  for i=1\n"
   ]
  },
  {
   "cell_type": "markdown",
   "metadata": {},
   "source": [
    "$ \\dfrac{1}{\\triangle x^2}[\\epsilon_{1.5}f_{2}-(\\epsilon_{1.5}+\\epsilon_{0.5})f_{1}+\\epsilon_{0.5}f_{0}]=q_{1} $. \n",
    "\t<br>But $ \\dfrac{f_{0}+f{1}}{2}=f_{1,bc} => f_{0}=2*f_{1,bc}-f_{1}$.<br>\n",
    "\t<br>Then first row can be rewritten as: <br>\n",
    "\t$ \\dfrac{1}{\\triangle x^2}[\\epsilon_{1.5}f_{2}-(\\epsilon_{1.5}+\\epsilon_{0.5})f_{1}+\\epsilon_{0.5}(2*f_{1,bc}-f_{1})]=q_{1} $ => <br>\n",
    "\t$ \\dfrac{1}{\\triangle x^2}[\\epsilon_{1.5}f_{2}-(\\epsilon_{1.5}+2\\epsilon_{0.5})f_{1}]+\\dfrac{2\\epsilon_{0.5}f_{1,bc}}{\\triangle x^2}=q_{1} $ or<br> $ \\dfrac{1}{\\triangle x^2}[\\epsilon_{1.5}f_{2}-(\\epsilon_{1.5}+2\\epsilon_{0.5})f_{1}]=q_{1}-\\dfrac{2\\epsilon_{0.5}f_{1,bc}}{\\triangle x^2}$"
   ]
  },
  {
   "cell_type": "markdown",
   "metadata": {},
   "source": [
    "## for i=N "
   ]
  },
  {
   "cell_type": "markdown",
   "metadata": {},
   "source": [
    "$ \\dfrac{1}{\\triangle x^2}[\\epsilon_{N+0.5}f_{N+1}-(\\epsilon_{N+0.5}+\\epsilon_{N-0.5})f_{N}+\\epsilon_{N-0.5}f_{N-1}]=q_{N} $. \n",
    "\t<br>But $ \\dfrac{f_{N}+f_{N+1}}{2}=f_{2,bc} => f_{N+1}=2*f_{2,bc}-f_{N}$.\n",
    "\t<br>Then first row can be rewritten as:<br> \n",
    "\t$ \\dfrac{1}{\\triangle x^2}[\\epsilon_{N+0.5}(2*f_{2,bc}-f_{N})-(\\epsilon_{N+0.5}+\\epsilon_{N-0.5})f_{N}+\\epsilon_{N-0.5}f_{N-1}]=q_{N} $ => <br>\n",
    "\t$ \\dfrac{1}{\\triangle x^2}[-(2\\epsilon_{N+0.5}+\\epsilon_{N-0.5})f_{N}+\\epsilon_{N-0.5}f_{N-1}]+\\dfrac{2\\epsilon_{N+0.5}f_{2,bc}}{\\triangle x^2}=q_{N} $ or\n",
    "    <br>$ \\dfrac{1}{\\triangle x^2}[-(2\\epsilon_{N+0.5}+\\epsilon_{N-0.5})f_{N}+\\epsilon_{N-0.5}f_{N-1}]=q_{N}-\\dfrac{2\\epsilon_{N+0.5}f_{2,bc}}{\\triangle x^2}$"
   ]
  },
  {
   "cell_type": "markdown",
   "metadata": {},
   "source": [
    "Than Mf=q changes to <br>\n",
    "$M_{mod}f=q_{mod}+q_{BC}$ <br>\n",
    "$M_{mod}f=q*\\triangle x^2+q_{BC}$ "
   ]
  },
  {
   "cell_type": "markdown",
   "metadata": {},
   "source": [
    "\\begin{align}\n",
    "\\begin{bmatrix}\n",
    "    -(\\epsilon_{1.5}+2\\epsilon_{0.5}) & \\epsilon_{1.5} & 0 & \\dots  & 0\\\\\n",
    "    \\epsilon_{1.5} & -(\\epsilon_{2.5}+\\epsilon_{1.5}) & \\epsilon_{2.5} & \\dots  & 0 \\\\\n",
    "    \\vdots & \\vdots & \\vdots & \\ddots & \\vdots \\\\\n",
    "   0 & 0  & \\dots  & \\epsilon_{N-0.5}&  -(2\\epsilon_{N+0.5}+\\epsilon_{N-0.5})\n",
    "\\end{bmatrix}\n",
    "*\\begin{bmatrix}\n",
    "           f_{1} \\\\\n",
    "           f_{2} \\\\\n",
    "           \\vdots \\\\\n",
    "           f_{N}\n",
    "  \\end{bmatrix}\n",
    "=\n",
    "\\begin{bmatrix}\n",
    "           q_{1} \\\\\n",
    "           q_{2} \\\\\n",
    "           \\vdots \\\\\n",
    "           q_{N}\n",
    "  \\end{bmatrix}\n",
    "  *\\triangle x^2 + \n",
    "  \\begin{bmatrix}\n",
    "           -2\\epsilon_{0.5}f_{1,bc} \\\\\n",
    "           0 \\\\\n",
    "           \\vdots \\\\\n",
    "           -2\\epsilon_{N+0.5}f_{2,bc}\n",
    "  \\end{bmatrix}\n",
    "\\end{align}"
   ]
  },
  {
   "cell_type": "markdown",
   "metadata": {},
   "source": [
    "$q_{M}=q*\\triangle x^2+q_{BC}$ "
   ]
  },
  {
   "cell_type": "code",
   "execution_count": 69,
   "metadata": {},
   "outputs": [],
   "source": [
    "qBC=np.zeros(len(qlist))\n",
    "f1bc=0  #Boundary condition 1\n",
    "f2bc=0  # Boundary condition 2 \n",
    "qBC[0]=-2*1*f1bc\n",
    "qBC[-1]=-2*1*f2bc"
   ]
  },
  {
   "cell_type": "code",
   "execution_count": 70,
   "metadata": {},
   "outputs": [],
   "source": [
    "qlistM=qlist*deltaX**2+qBC"
   ]
  },
  {
   "cell_type": "markdown",
   "metadata": {},
   "source": [
    "$q_{M}$=qlistM"
   ]
  },
  {
   "cell_type": "code",
   "execution_count": 71,
   "metadata": {},
   "outputs": [
    {
     "data": {
      "text/plain": [
       "array([-2.5e-07, -2.5e-07, -2.5e-07, ..., -2.5e-07, -2.5e-07, -2.5e-07])"
      ]
     },
     "execution_count": 71,
     "metadata": {},
     "output_type": "execute_result"
    }
   ],
   "source": [
    "qlistM"
   ]
  },
  {
   "cell_type": "code",
   "execution_count": 72,
   "metadata": {},
   "outputs": [
    {
     "data": {
      "text/plain": [
       "({-2.5e-07, 1e-06}, 1001)"
      ]
     },
     "execution_count": 72,
     "metadata": {},
     "output_type": "execute_result"
    }
   ],
   "source": [
    "set(qlistM),len(qlistM)"
   ]
  },
  {
   "cell_type": "markdown",
   "metadata": {},
   "source": [
    "$M_{mod}$=matMOD"
   ]
  },
  {
   "cell_type": "code",
   "execution_count": 75,
   "metadata": {},
   "outputs": [],
   "source": [
    "matMOD=mat"
   ]
  },
  {
   "cell_type": "code",
   "execution_count": 79,
   "metadata": {},
   "outputs": [
    {
     "data": {
      "text/plain": [
       "array([[-3,  1,  0, ...,  0,  0,  0],\n",
       "       [ 1, -2,  1, ...,  0,  0,  0],\n",
       "       [ 0,  1, -2, ...,  0,  0,  0],\n",
       "       ...,\n",
       "       [ 0,  0,  0, ..., -4,  2,  0],\n",
       "       [ 0,  0,  0, ...,  2, -4,  2],\n",
       "       [ 0,  0,  0, ...,  0,  2, -6]])"
      ]
     },
     "execution_count": 79,
     "metadata": {},
     "output_type": "execute_result"
    }
   ],
   "source": [
    "matMOD[0][0]=-3\n",
    "matMOD[-1][-1]=-6\n",
    "matMOD"
   ]
  },
  {
   "cell_type": "markdown",
   "metadata": {},
   "source": [
    "Now we can rewrite our system of equations as <br>\n",
    "$M_{mod}f=qM$"
   ]
  },
  {
   "cell_type": "code",
   "execution_count": 83,
   "metadata": {},
   "outputs": [],
   "source": [
    "f=LA.solve(matMOD,qlistM)"
   ]
  },
  {
   "cell_type": "code",
   "execution_count": 86,
   "metadata": {},
   "outputs": [
    {
     "data": {
      "text/plain": [
       "array([-2.27480436e-05, -6.84941309e-05, -1.14490218e-04, ...,\n",
       "        5.68076091e-05,  3.41845654e-05,  1.14365218e-05])"
      ]
     },
     "execution_count": 86,
     "metadata": {},
     "output_type": "execute_result"
    }
   ],
   "source": [
    "f"
   ]
  },
  {
   "cell_type": "code",
   "execution_count": 88,
   "metadata": {},
   "outputs": [
    {
     "data": {
      "text/plain": [
       "(1001,)"
      ]
     },
     "execution_count": 88,
     "metadata": {},
     "output_type": "execute_result"
    }
   ],
   "source": [
    "f.shape"
   ]
  },
  {
   "cell_type": "code",
   "execution_count": 131,
   "metadata": {},
   "outputs": [
    {
     "data": {
      "image/png": "[encoded data removed]",
      "text/plain": [
       "<Figure size 720x432 with 1 Axes>"
      ]
     },
     "metadata": {
      "needs_background": "light"
     },
     "output_type": "display_data"
    }
   ],
   "source": [
    "fig=plt.figure(figsize=(10,6))\n",
    "ax=plt.axes()\n",
    "ax.grid()\n",
    "ax.plot(x,f*100,color=\"red\",linewidth=3,label=\"f*100 - solution*100\")\n",
    "ax.plot(x,qlist,linewidth=3,color=\"black\",label=\"q(x)\")   \n",
    "ax.plot([0,0.5,0.5,1],np.array([1,1,2,2]),label=\"e\")  \n",
    "ax.set_title(\"Solution plot\")\n",
    "ax.legend()\n",
    "plt.show()"
   ]
  }
 ],
 "metadata": {
  "kernelspec": {
   "display_name": "Py37-base [conda env:Python3.7-basic]",
   "language": "python",
   "name": "conda-env-Python3.7-basic-python3.7-basic"
  },
  "language_info": {
   "codemirror_mode": {
    "name": "ipython",
    "version": 3
   },
   "file_extension": ".py",
   "mimetype": "text/x-python",
   "name": "python",
   "nbconvert_exporter": "python",
   "pygments_lexer": "ipython3",
   "version": "3.7.0"
  }
 },
 "nbformat": 4,
 "nbformat_minor": 2
}
