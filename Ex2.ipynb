{
 "cells": [
  {
   "cell_type": "code",
   "execution_count": 56,
   "metadata": {},
   "outputs": [],
   "source": [
    "import numpy as np\n",
    "from numpy import linalg as LA\n",
    "from matplotlib import pyplot as plt"
   ]
  },
  {
   "cell_type": "code",
   "execution_count": 114,
   "metadata": {},
   "outputs": [],
   "source": [
    "Ndiag=5\n",
    "d=Ndiag*[2]\n",
    "ones=(Ndiag-1)*[1]\n",
    "mones=(Ndiag-1)*[-1]"
   ]
  },
  {
   "cell_type": "code",
   "execution_count": 115,
   "metadata": {},
   "outputs": [
    {
     "data": {
      "text/plain": [
       "array([[ 2, -1,  0,  0,  0],\n",
       "       [-1,  2, -1,  0,  0],\n",
       "       [ 0, -1,  2, -1,  0],\n",
       "       [ 0,  0, -1,  2, -1],\n",
       "       [ 0,  0,  0, -1,  2]])"
      ]
     },
     "execution_count": 115,
     "metadata": {},
     "output_type": "execute_result"
    }
   ],
   "source": [
    "mat=np.diag(d)+np.diag(mones,k=1)+np.diag(mones,k=-1)\n",
    "mat"
   ]
  },
  {
   "cell_type": "code",
   "execution_count": 116,
   "metadata": {},
   "outputs": [],
   "source": [
    "w,v=LA.eig(mat)\n",
    "w_ind = np.argsort(w)"
   ]
  },
  {
   "cell_type": "code",
   "execution_count": 119,
   "metadata": {},
   "outputs": [
    {
     "data": {
      "text/plain": [
       "array([0.26794919, 3.73205081, 3.        , 2.        , 1.        ])"
      ]
     },
     "execution_count": 119,
     "metadata": {},
     "output_type": "execute_result"
    }
   ],
   "source": [
    "w"
   ]
  },
  {
   "cell_type": "code",
   "execution_count": 120,
   "metadata": {},
   "outputs": [
    {
     "data": {
      "text/plain": [
       "array([[-2.88675135e-01,  2.88675135e-01, -5.00000000e-01,\n",
       "         5.77350269e-01, -5.00000000e-01],\n",
       "       [-5.00000000e-01, -5.00000000e-01,  5.00000000e-01,\n",
       "         2.61038473e-17, -5.00000000e-01],\n",
       "       [-5.77350269e-01,  5.77350269e-01, -4.56516826e-16,\n",
       "        -5.77350269e-01,  1.15581637e-16],\n",
       "       [-5.00000000e-01, -5.00000000e-01, -5.00000000e-01,\n",
       "         2.41228241e-17,  5.00000000e-01],\n",
       "       [-2.88675135e-01,  2.88675135e-01,  5.00000000e-01,\n",
       "         5.77350269e-01,  5.00000000e-01]])"
      ]
     },
     "execution_count": 120,
     "metadata": {},
     "output_type": "execute_result"
    }
   ],
   "source": [
    "v"
   ]
  },
  {
   "cell_type": "code",
   "execution_count": 118,
   "metadata": {},
   "outputs": [
    {
     "data": {
      "text/plain": [
       "array([0, 4, 3, 2, 1])"
      ]
     },
     "execution_count": 118,
     "metadata": {},
     "output_type": "execute_result"
    }
   ],
   "source": [
    "w_ind"
   ]
  },
  {
   "cell_type": "code",
   "execution_count": 117,
   "metadata": {},
   "outputs": [
    {
     "data": {
      "text/plain": [
       "array([-0.28867513,  0.28867513, -0.5       ,  0.57735027, -0.5       ])"
      ]
     },
     "execution_count": 117,
     "metadata": {},
     "output_type": "execute_result"
    }
   ],
   "source": [
    "v[0]"
   ]
  },
  {
   "cell_type": "code",
   "execution_count": 124,
   "metadata": {},
   "outputs": [
    {
     "data": {
      "text/plain": [
       "[<matplotlib.lines.Line2D at 0x7f116881a780>]"
      ]
     },
     "execution_count": 124,
     "metadata": {},
     "output_type": "execute_result"
    },
    {
     "data": {
      "image/png": "[encoded data removed]",
      "text/plain": [
       "<Figure size 432x288 with 1 Axes>"
      ]
     },
     "metadata": {
      "needs_background": "light"
     },
     "output_type": "display_data"
    }
   ],
   "source": [
    "plt.plot(v[:,w_ind[0]])"
   ]
  },
  {
   "cell_type": "code",
   "execution_count": null,
   "metadata": {},
   "outputs": [],
   "source": []
  }
 ],
 "metadata": {
  "kernelspec": {
   "display_name": "Py37-base [conda env:Python3.7-basic]",
   "language": "python",
   "name": "conda-env-Python3.7-basic-python3.7-basic"
  },
  "language_info": {
   "codemirror_mode": {
    "name": "ipython",
    "version": 3
   },
   "file_extension": ".py",
   "mimetype": "text/x-python",
   "name": "python",
   "nbconvert_exporter": "python",
   "pygments_lexer": "ipython3",
   "version": "3.7.0"
  }
 },
 "nbformat": 4,
 "nbformat_minor": 2
}
